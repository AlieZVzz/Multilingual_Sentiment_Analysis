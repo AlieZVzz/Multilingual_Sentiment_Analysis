{
 "cells": [
  {
   "cell_type": "code",
   "execution_count": 6,
   "metadata": {},
   "outputs": [],
   "source": [
    "import jieba\n",
    "ls = open('baidu_zh.txt', 'r', encoding='utf-8')\n",
    "target = open('baidu_zh_token.txt', 'w', encoding='utf-8')\n",
    "for line in ls.readlines():\n",
    "    token=jieba.lcut(line[2:])\n",
    "    target.write(line[:2]+'\\t'+' '.join(token))"
   ]
  },
  {
   "cell_type": "code",
   "execution_count": 7,
   "metadata": {},
   "outputs": [],
   "source": [
    "import jieba\n",
    "ls = open('google_zh.txt', 'r', encoding='utf-8')\n",
    "target = open('google_zh_token.txt', 'w', encoding='utf-8')\n",
    "for line in ls.readlines():\n",
    "    token=jieba.lcut(line[2:])\n",
    "    target.write(line[:2]+'\\t'+' '.join(token))"
   ]
  }
 ],
 "metadata": {
  "interpreter": {
   "hash": "123000c325e5de2f7835b6ba4c49faeb462be3fb95447c19827f28a3698560a6"
  },
  "kernelspec": {
   "display_name": "Python 3.8.12 64-bit ('tf2': conda)",
   "language": "python",
   "name": "python3"
  },
  "language_info": {
   "codemirror_mode": {
    "name": "ipython",
    "version": 3
   },
   "file_extension": ".py",
   "mimetype": "text/x-python",
   "name": "python",
   "nbconvert_exporter": "python",
   "pygments_lexer": "ipython3",
   "version": "3.7.12"
  },
  "orig_nbformat": 4
 },
 "nbformat": 4,
 "nbformat_minor": 2
}
